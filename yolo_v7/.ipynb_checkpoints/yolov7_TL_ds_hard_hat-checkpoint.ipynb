{
 "cells": [
  {
   "cell_type": "markdown",
   "metadata": {
    "id": "GD9gUQpaBxNa"
   },
   "source": [
    "# Yolov7 transfer learning - hard hat dataset (200 samples / 70-20-10)\n",
    "\n",
    "https://github.com/WongKinYiu/yolov7"
   ]
  },
  {
   "cell_type": "code",
   "execution_count": 2,
   "metadata": {
    "colab": {
     "base_uri": "https://localhost:8080/"
    },
    "id": "nD-uPyQ_2jiN",
    "outputId": "eea3fa00-6c6d-423b-b357-381584207576"
   },
   "outputs": [],
   "source": [
    "#!pip install -r requirements.txt"
   ]
  },
  {
   "cell_type": "markdown",
   "metadata": {
    "id": "mtJ24mPlyF-S"
   },
   "source": [
    "# Custom Data\n"
   ]
  },
  {
   "cell_type": "code",
   "execution_count": 3,
   "metadata": {
    "colab": {
     "base_uri": "https://localhost:8080/"
    },
    "id": "ovKgrVN8ygdW",
    "outputId": "d45e817c-c148-4c6a-997e-5039a991b273"
   },
   "outputs": [],
   "source": []
  },
  {
   "cell_type": "code",
   "execution_count": 4,
   "metadata": {
    "colab": {
     "base_uri": "https://localhost:8080/"
    },
    "id": "2TswxMrbudsf",
    "outputId": "91aa592b-1ca1-4a08-d64f-738fd3b28033"
   },
   "outputs": [],
   "source": [
    "!wget https://github.com/WongKinYiu/yolov7/releases/download/v0.1/yolov7_training.pt"
   ]
  },
  {
   "cell_type": "code",
   "execution_count": 5,
   "metadata": {
    "colab": {
     "base_uri": "https://localhost:8080/",
     "height": 454
    },
    "id": "cTYT8T9BrG-o",
    "outputId": "76419ccc-82d8-4c0f-8c53-b6c24f08e5af"
   },
   "outputs": [],
   "source": [
    "import torch\n",
    "torch.cuda.is_available()"
   ]
  },
  {
   "cell_type": "markdown",
   "metadata": {
    "id": "bHfT9gEiBsBd"
   },
   "source": [
    "# Training pre-trained model on custom dataset"
   ]
  },
  {
   "cell_type": "code",
   "execution_count": 6,
   "metadata": {
    "id": "1iqOPKjr22mL"
   },
   "outputs": [
    {
     "name": "stdout",
     "output_type": "stream",
     "text": [
      "YOLOR 🚀 e50f20b torch 2.0.1 CUDA:0 (NVIDIA GeForce RTX 4060 Laptop GPU, 7940.125MB)\n",
      "\n",
      "Namespace(weights='MachineLearning_Python/yolo_v7/yolov7_training.pt', cfg='', data='ds_hard_hat/data.yaml', hyp='data/hyp.scratch.p5.yaml', epochs=10, batch_size=8, img_size=[640, 640], rect=False, resume=False, nosave=False, notest=False, noautoanchor=False, evolve=False, bucket='', cache_images=False, image_weights=False, device='', multi_scale=False, single_cls=False, adam=False, sync_bn=False, local_rank=-1, workers=8, project='runs/train', entity=None, name='exp', exist_ok=False, quad=False, linear_lr=False, label_smoothing=0.0, upload_dataset=False, bbox_interval=-1, save_period=-1, artifact_alias='latest', freeze=[0], v5_metric=False, world_size=1, global_rank=-1, save_dir='runs/train/exp10', total_batch_size=8)\n",
      "\u001b[34m\u001b[1mtensorboard: \u001b[0mStart with 'tensorboard --logdir runs/train', view at http://localhost:6006/\n",
      "\u001b[34m\u001b[1mhyperparameters: \u001b[0mlr0=0.01, lrf=0.1, momentum=0.937, weight_decay=0.0005, warmup_epochs=3.0, warmup_momentum=0.8, warmup_bias_lr=0.1, box=0.05, cls=0.3, cls_pw=1.0, obj=0.7, obj_pw=1.0, iou_t=0.2, anchor_t=4.0, fl_gamma=0.0, hsv_h=0.015, hsv_s=0.7, hsv_v=0.4, degrees=0.0, translate=0.2, scale=0.9, shear=0.0, perspective=0.0, flipud=0.0, fliplr=0.5, mosaic=1.0, mixup=0.15, copy_paste=0.0, paste_in=0.15, loss_ota=1\n",
      "Traceback (most recent call last):\n",
      "  File \"/home/matthias/workspace/Coding/ML_gh_repo_personal/MachineLearning_Python/yolo_v7/utils/google_utils.py\", line 27, in attempt_download\n",
      "    assets = [x['name'] for x in response['assets']]  # release assets\n",
      "                                 ~~~~~~~~^^^^^^^^^^\n",
      "KeyError: 'assets'\n",
      "\n",
      "During handling of the above exception, another exception occurred:\n",
      "\n",
      "Traceback (most recent call last):\n",
      "  File \"/home/matthias/workspace/Coding/ML_gh_repo_personal/MachineLearning_Python/yolo_v7/train.py\", line 731, in <module>\n",
      "    kick_off_training(opt)\n",
      "  File \"/home/matthias/workspace/Coding/ML_gh_repo_personal/MachineLearning_Python/yolo_v7/train.py\", line 577, in kick_off_training\n",
      "    train(hyp, opt, device, tb_writer)\n",
      "  File \"/home/matthias/workspace/Coding/ML_gh_repo_personal/MachineLearning_Python/yolo_v7/train.py\", line 86, in train\n",
      "    attempt_download(weights)  # download if not found locally\n",
      "    ^^^^^^^^^^^^^^^^^^^^^^^^^\n",
      "  File \"/home/matthias/workspace/Coding/ML_gh_repo_personal/MachineLearning_Python/yolo_v7/utils/google_utils.py\", line 32, in attempt_download\n",
      "    tag = subprocess.check_output('git tag', shell=True).decode().split()[-1]\n",
      "          ~~~~~~~~~~~~~~~~~~~~~~~~~~~~~~~~~~~~~~~~~~~~~~~~~~~~~~~~~~~~~~~^^^^\n",
      "IndexError: list index out of range\n"
     ]
    }
   ],
   "source": [
    "!python train.py --batch 8 --epochs 10 --data 'ds_hard_hat/data.yaml' --weights 'MachineLearning_Python/yolo_v7/yolov7_training.pt'\n"
   ]
  },
  {
   "cell_type": "markdown",
   "metadata": {
    "id": "0W0MpUaTCJro"
   },
   "source": [
    "# Evaluation\n",
    "\n",
    "#https://github.com/WongKinYiu/yolov7/blob/main/detect.py"
   ]
  },
  {
   "cell_type": "code",
   "execution_count": 1,
   "metadata": {
    "id": "N4cfnLtTCIce"
   },
   "outputs": [
    {
     "name": "stdout",
     "output_type": "stream",
     "text": [
      "Namespace(weights=['runs/train/exp/weights/best.pt'], source='{dataset.location}/test/images', img_size=640, conf_thres=0.1, iou_thres=0.45, device='', view_img=False, save_txt=False, save_conf=False, nosave=False, classes=None, agnostic_nms=False, augment=False, update=False, project='runs/detect', name='exp', exist_ok=False, no_trace=False)\n",
      "YOLOR 🚀 e50f20b torch 2.0.1 CUDA:0 (NVIDIA GeForce RTX 4060 Laptop GPU, 7940.125MB)\n",
      "\n",
      "Traceback (most recent call last):\n",
      "  File \"/home/matthias/workspace/Coding/ML_gh_repo_personal/MachineLearning_Python/yolo_v7/utils/google_utils.py\", line 27, in attempt_download\n",
      "    assets = [x['name'] for x in response['assets']]  # release assets\n",
      "                                 ~~~~~~~~^^^^^^^^^^\n",
      "KeyError: 'assets'\n",
      "\n",
      "During handling of the above exception, another exception occurred:\n",
      "\n",
      "Traceback (most recent call last):\n",
      "  File \"/home/matthias/workspace/Coding/ML_gh_repo_personal/MachineLearning_Python/yolo_v7/detect.py\", line 196, in <module>\n",
      "    detect()\n",
      "  File \"/home/matthias/workspace/Coding/ML_gh_repo_personal/MachineLearning_Python/yolo_v7/detect.py\", line 34, in detect\n",
      "    model = attempt_load(weights, map_location=device)  # load FP32 model\n",
      "            ^^^^^^^^^^^^^^^^^^^^^^^^^^^^^^^^^^^^^^^^^^\n",
      "  File \"/home/matthias/workspace/Coding/ML_gh_repo_personal/MachineLearning_Python/yolo_v7/models/experimental.py\", line 251, in attempt_load\n",
      "    attempt_download(w)\n",
      "  File \"/home/matthias/workspace/Coding/ML_gh_repo_personal/MachineLearning_Python/yolo_v7/utils/google_utils.py\", line 32, in attempt_download\n",
      "    tag = subprocess.check_output('git tag', shell=True).decode().split()[-1]\n",
      "          ~~~~~~~~~~~~~~~~~~~~~~~~~~~~~~~~~~~~~~~~~~~~~~~~~~~~~~~~~~~~~~~^^^^\n",
      "IndexError: list index out of range\n"
     ]
    }
   ],
   "source": [
    "# Run evaluation\n",
    "python detect.py --weights 'runs/train/exp/weights/best.pt' --conf 0.1 --source 'ds_hard_hat/test/images'\n"
   ]
  },
  {
   "cell_type": "code",
   "execution_count": null,
   "metadata": {
    "id": "6AGhNOSSHY4_"
   },
   "outputs": [],
   "source": [
    "#display inference on ALL test images\n",
    "\n",
    "import glob\n",
    "from IPython.display import Image, display\n",
    "\n",
    "i = 0\n",
    "limit = 10000 # max images to print\n",
    "for imageName in glob.glob('/content/yolov7/runs/detect/exp/*.jpg'): #assuming JPG\n",
    "    if i < limit:\n",
    "      display(Image(filename=imageName))\n",
    "      print(\"\\n\")\n",
    "    i = i + 1\n"
   ]
  },
  {
   "cell_type": "markdown",
   "metadata": {
    "id": "aMumI7a2JDAN"
   },
   "source": [
    "# Reparameterize for Inference\n",
    "\n",
    "https://github.com/WongKinYiu/yolov7/blob/main/tools/reparameterization.ipynb"
   ]
  }
 ],
 "metadata": {
  "accelerator": "GPU",
  "colab": {
   "provenance": []
  },
  "kernelspec": {
   "display_name": "Python 3 (ipykernel)",
   "language": "python",
   "name": "python3"
  },
  "language_info": {
   "codemirror_mode": {
    "name": "ipython",
    "version": 3
   },
   "file_extension": ".py",
   "mimetype": "text/x-python",
   "name": "python",
   "nbconvert_exporter": "python",
   "pygments_lexer": "ipython3",
   "version": "3.11.9"
  }
 },
 "nbformat": 4,
 "nbformat_minor": 4
}
